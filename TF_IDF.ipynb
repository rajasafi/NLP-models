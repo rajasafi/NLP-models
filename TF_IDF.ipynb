{
  "nbformat": 4,
  "nbformat_minor": 0,
  "metadata": {
    "colab": {
      "provenance": [],
      "authorship_tag": "ABX9TyMdCrqr/nTu6FAmhc5Bd8QL",
      "include_colab_link": true
    },
    "kernelspec": {
      "name": "python3",
      "display_name": "Python 3"
    },
    "language_info": {
      "name": "python"
    }
  },
  "cells": [
    {
      "cell_type": "markdown",
      "metadata": {
        "id": "view-in-github",
        "colab_type": "text"
      },
      "source": [
        "<a href=\"https://colab.research.google.com/github/rajasafi/NLP-models/blob/main/TF_IDF.ipynb\" target=\"_parent\"><img src=\"https://colab.research.google.com/assets/colab-badge.svg\" alt=\"Open In Colab\"/></a>"
      ]
    },
    {
      "cell_type": "code",
      "execution_count": 1,
      "metadata": {
        "id": "6qnrwoyytkG1"
      },
      "outputs": [],
      "source": [
        "import numpy as np\n"
      ]
    },
    {
      "cell_type": "code",
      "source": [
        "a = \"purple is the best city in the forest\".split()\n",
        "b = \"there is an art to getting your way and throwing bananas on to the street is not it\".split()\n",
        "c = \"it is not often you find soggy bananas on the street\".split()"
      ],
      "metadata": {
        "id": "T-y7hb86uIXo"
      },
      "execution_count": 2,
      "outputs": []
    },
    {
      "cell_type": "markdown",
      "source": [
        "The TF component counts the number of times a term appears within a document and divides this by the total number of terms in that same document.\n",
        "\n",
        "Ideally, we want matches between rarer words to score higher. To do this, we can multiply TF by the second term — IDF. The Inverse Document Frequency measures how common a word is across all of our documents."
      ],
      "metadata": {
        "id": "cT8JmMjYL6Q3"
      }
    },
    {
      "cell_type": "code",
      "source": [
        "def tfidf(word):\n",
        "    tf = []\n",
        "    count_n=0\n",
        "    for sentence in [a, b, c]:\n",
        "        # calculate TF\n",
        "        t_count = len([x for x in sentence if word in sentence])\n",
        "        tf.append(t_count/len(sentence))\n",
        "        # count number of docs for IDF\n",
        "        count_n += 1 if word in sentence else 0\n",
        "    idf = np.log10(len([a, b, c]) / count_n)\n",
        "    return [round(_tf*idf, 2) for _tf in tf]"
      ],
      "metadata": {
        "id": "j2EObqN_uQJH"
      },
      "execution_count": 3,
      "outputs": []
    },
    {
      "cell_type": "code",
      "source": [
        "# we are calculating TF-IDF for term and document\n",
        "tfidf_a, tfidf_b, tfidf_c = tfidf('art')\n",
        "print(f\"TF-IDF FOR a: {tfidf_a}\\nTF-IDF FOR b: {tfidf_b}\\nTF-IDF FOR c: {tfidf_c}\")"
      ],
      "metadata": {
        "colab": {
          "base_uri": "https://localhost:8080/"
        },
        "id": "dbBPwwsEvxw7",
        "outputId": "3a752761-4670-4b59-cb8c-aef6e1689b59"
      },
      "execution_count": 4,
      "outputs": [
        {
          "output_type": "stream",
          "name": "stdout",
          "text": [
            "TF-IDF FOR a: 0.0\n",
            "TF-IDF FOR b: 0.48\n",
            "TF-IDF FOR c: 0.0\n"
          ]
        }
      ]
    }
  ]
}