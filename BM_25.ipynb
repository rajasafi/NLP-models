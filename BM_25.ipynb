{
  "nbformat": 4,
  "nbformat_minor": 0,
  "metadata": {
    "colab": {
      "provenance": [],
      "authorship_tag": "ABX9TyO3zJGV1d6i2YAC5eP/1Cjs",
      "include_colab_link": true
    },
    "kernelspec": {
      "name": "python3",
      "display_name": "Python 3"
    },
    "language_info": {
      "name": "python"
    }
  },
  "cells": [
    {
      "cell_type": "markdown",
      "metadata": {
        "id": "view-in-github",
        "colab_type": "text"
      },
      "source": [
        "<a href=\"https://colab.research.google.com/github/rajasafi/NLP-models/blob/main/BM_25.ipynb\" target=\"_parent\"><img src=\"https://colab.research.google.com/assets/colab-badge.svg\" alt=\"Open In Colab\"/></a>"
      ]
    },
    {
      "cell_type": "code",
      "execution_count": null,
      "metadata": {
        "id": "OsGyep06NCmO"
      },
      "outputs": [],
      "source": [
        "a = \"purple is the best city in the forest\".split()\n",
        "b = \"there is an art to getting your way and throwing bananas on to the street is not it\".split()\n",
        "c = \"it is not often you find soggy bananas on the street\".split()\n",
        "d = \"green should have smelled more tranquil but somehow it just tasted rotten\".split()\n",
        "e = \"joyce enjoyed eating pancakes with ketchup\".split()\n",
        "f = \"as the asteroid hurtled toward earth becky was upset her dentist appointment ha\".split()"
      ]
    },
    {
      "cell_type": "code",
      "source": [
        "docs = [a, b, c, d, e, f]"
      ],
      "metadata": {
        "id": "BY9KdPWbOYIW"
      },
      "execution_count": null,
      "outputs": []
    },
    {
      "cell_type": "markdown",
      "source": [
        "The successor to TF-IDF, Okapi BM25 is the result of optimizing TF-IDF primarily to normalize results based on document length.\n",
        "\n",
        "TF-IDF is great but can return questionable results when we begin comparing several mentions"
      ],
      "metadata": {
        "id": "ZJkGWgIMN98v"
      }
    },
    {
      "cell_type": "code",
      "source": [
        "import numpy as np\n",
        "\n",
        "avgdl = sum(len(sentence) for sentence in [a, b, c, d, e, f]) / len(docs)\n",
        "N = len(docs)\n",
        "\n",
        "def bm25(word, sentence, k=1.2, b=0.75):\n",
        "    freq = sentence.count(word)  # or f(q,D) - freq of query in Doc\n",
        "    tf = (freq * (k + 1)) / (freq + k * (1 - b + b * (len(sentence) / avgdl)))\n",
        "    N_q = sum([doc.count(word) for doc in docs])  # number of docs that contain the word\n",
        "    idf = np.log(((N - N_q + 0.5) / (N_q + 0.5)) + 1)\n",
        "    return round(tf*idf, 4)"
      ],
      "metadata": {
        "id": "6K1OAZgrN3d4"
      },
      "execution_count": null,
      "outputs": []
    },
    {
      "cell_type": "code",
      "source": [
        "bm25('purple', a)"
      ],
      "metadata": {
        "colab": {
          "base_uri": "https://localhost:8080/"
        },
        "id": "oXcShXlGP8f8",
        "outputId": "00498a21-69f0-4e83-98c3-57f7f730d89c"
      },
      "execution_count": null,
      "outputs": [
        {
          "output_type": "execute_result",
          "data": {
            "text/plain": [
              "1.7511"
            ]
          },
          "metadata": {},
          "execution_count": 15
        }
      ]
    },
    {
      "cell_type": "markdown",
      "source": [
        "We’ve used the default parameters for k and b — and our outputs look promising. The query 'purple' only matches sentence a, and 'bananas' scores reasonable for both b and c — but slightly higher in c thanks to the smaller word count."
      ],
      "metadata": {
        "id": "ZLJmUBm4Q5mz"
      }
    },
    {
      "cell_type": "code",
      "source": [
        "vocab = set(a+b+c+d+e+f)\n",
        "print(vocab)"
      ],
      "metadata": {
        "colab": {
          "base_uri": "https://localhost:8080/"
        },
        "id": "xx23gd_gQv3O",
        "outputId": "48343950-2fed-4ffb-cdad-8f2d1fb4d2db"
      },
      "execution_count": null,
      "outputs": [
        {
          "output_type": "stream",
          "name": "stdout",
          "text": [
            "{'appointment', 'street', 'becky', 'earth', 'her', 'somehow', 'is', 'there', 'purple', 'have', 'was', 'more', 'art', 'but', 'ha', 'just', 'pancakes', 'should', 'your', 'hurtled', 'soggy', 'often', 'green', 'tranquil', 'best', 'ketchup', 'throwing', 'bananas', 'city', 'to', 'joyce', 'smelled', 'getting', 'as', 'upset', 'you', 'with', 'on', 'forest', 'dentist', 'find', 'and', 'in', 'not', 'it', 'rotten', 'enjoyed', 'eating', 'tasted', 'an', 'asteroid', 'way', 'the', 'toward'}\n"
          ]
        }
      ]
    },
    {
      "cell_type": "code",
      "source": [
        "vec = []\n",
        "# we will create the BM25 vector for sentence 'a'\n",
        "for word in vocab:\n",
        "    vec.append(bm25(word, a))\n",
        "print(vec)"
      ],
      "metadata": {
        "colab": {
          "base_uri": "https://localhost:8080/"
        },
        "id": "knzi8RG8RMPm",
        "outputId": "6bd1f7f2-a5b1-4e80-a893-92b316647a1a"
      },
      "execution_count": null,
      "outputs": [
        {
          "output_type": "stream",
          "name": "stdout",
          "text": [
            "[0.0, 0.0, 0.0, 0.0, 0.0, 0.0, 0.5023, 0.0, 1.7511, 0.0, 0.0, 0.0, 0.0, 0.0, 0.0, 0.0, 0.0, 0.0, 0.0, 0.0, 0.0, 0.0, 0.0, 0.0, 1.7511, 0.0, 0.0, 0.0, 1.7511, 0.0, 0.0, 0.0, 0.0, 0.0, 0.0, 0.0, 0.0, 0.0, 1.7511, 0.0, 0.0, 0.0, 1.7511, 0.0, 0.0, 0.0, 0.0, 0.0, 0.0, 0.0, 0.0, 0.0, 0.3615, 0.0]\n"
          ]
        }
      ]
    }
  ]
}